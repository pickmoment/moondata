{
 "cells": [
  {
   "cell_type": "code",
   "execution_count": 1,
   "metadata": {},
   "outputs": [
    {
     "name": "stdout",
     "output_type": "stream",
     "text": [
      "COMPILER=msvc-1916\n",
      "ENABLE_COLUMN_METADATA\n",
      "ENABLE_DBSTAT_VTAB\n",
      "ENABLE_FTS3\n",
      "ENABLE_FTS3_TOKENIZER\n",
      "ENABLE_FTS4\n",
      "ENABLE_FTS5\n",
      "ENABLE_GEOPOLY\n",
      "ENABLE_JSON1\n",
      "ENABLE_RTREE\n",
      "ENABLE_UNLOCK_NOTIFY\n",
      "MAX_DEFAULT_PAGE_SIZE=32768\n",
      "MAX_VARIABLE_NUMBER=250000\n",
      "SECURE_DELETE\n",
      "THREADSAFE=1\n"
     ]
    }
   ],
   "source": [
    "import sqlite3\n",
    "conn = sqlite3.connect(':memory:')\n",
    "cur = conn.cursor()\n",
    "conn.enable_load_extension(True)\n",
    "\n",
    "for (val,) in cur.execute('pragma compile_options'): \n",
    "    print (val)"
   ]
  },
  {
   "cell_type": "markdown",
   "metadata": {},
   "source": [
    "https://komorandocs.readthedocs.io/ko/latest/pykomoran/tutorial.html"
   ]
  },
  {
   "cell_type": "code",
   "execution_count": 3,
   "metadata": {},
   "outputs": [
    {
     "data": {
      "text/plain": [
       "['김문근', '천재']"
      ]
     },
     "execution_count": 3,
     "metadata": {},
     "output_type": "execute_result"
    }
   ],
   "source": [
    "from PyKomoran import *\n",
    "komoran = Komoran(DEFAULT_MODEL['LIGHT'])\n",
    "komoran.set_user_dic('dic/user.dic')\n",
    "komoran.get_nouns(\"김문근은 천재인가요\")"
   ]
  },
  {
   "cell_type": "code",
   "execution_count": 23,
   "metadata": {},
   "outputs": [],
   "source": [
    "from peewee import *\n",
    "from playhouse.sqlite_ext import *\n",
    "import datetime\n",
    "from PyKomoran import *\n",
    "komoran = Komoran(DEFAULT_MODEL['LIGHT'])\n",
    "komoran.set_user_dic('dic/user.dic')\n",
    "\n",
    "# pragmas = [\n",
    "#     ('journal_mode', 'wal'),\n",
    "#     ('cache_size', -1024 * 32)]\n",
    "# db = SqliteExtDatabase('blog.db', pragmas=pragmas)\n",
    "db = SqliteExtDatabase('treememo.db')\n",
    "\n",
    "\n",
    "class Document(Model):\n",
    "    title = TextField()\n",
    "    create_at = DateTimeField(default=datetime.datetime.now)\n",
    "    modify_at = DateTimeField(default=datetime.datetime.now)\n",
    "\n",
    "    class Meta:\n",
    "        database = db\n",
    "    \n",
    "class DocumentEntry(Model):\n",
    "    document_id = ForeignKeyField(Document, backref='map_document')\n",
    "    entry_id = ForeignKeyField(Entry, backref='map_entry')\n",
    "    parent_id = ForeignKeyField('self', null=True, backref='map_parent')\n",
    "    prev_id = ForeignKeyField('self', null=True, backref='map_prev')\n",
    "\n",
    "    class Meta:\n",
    "        database = db\n",
    "   \n",
    "class Entry(Model):\n",
    "    content = TextField()\n",
    "    create_at = DateTimeField(default=datetime.datetime.now)\n",
    "    modify_at = DateTimeField(default=datetime.datetime.now)\n",
    "\n",
    "    class Meta:\n",
    "        database = db\n",
    "        \n",
    "class FTSEntry(FTSModel):\n",
    "    content = TextField()\n",
    "\n",
    "    class Meta:\n",
    "        database = db        \n",
    "        \n",
    "class Tag(Model):\n",
    "    title = TextField()\n",
    "    create_at = DateTimeField(default=datetime.datetime.now)\n",
    "    modify_at = DateTimeField(default=datetime.datetime.now)\n",
    "\n",
    "    class Meta:\n",
    "        database = db\n",
    "        \n",
    "class TagMap(Model):\n",
    "    tag_id = ForeignKeyField(Tag, backref='map_tag')\n",
    "    entry_id = ForeignKeyField(Entry, backref='map_entry')\n",
    "\n",
    "    class Meta:\n",
    "        database = db\n",
    "    \n",
    "def add_content(content):\n",
    "    entry = Entry.create(content=content)\n",
    "    FTSEntry.create(docid=entry.id, content='\\n'.join(komoran.get_nouns(content)))\n",
    "    return entry\n",
    "    \n",
    "\n",
    "def get_tag(title):\n",
    "    try:\n",
    "        tag = Tag.get(Tag.title == title)\n",
    "        print('exist - ', title, tag.title, tag.id)\n",
    "    except:    \n",
    "        tag = Tag.create(title=title)\n",
    "        print('new - ', title, tag.title, tag.id)\n",
    "    return tag\n",
    "    \n",
    "def add_tag(docid, title):\n",
    "    tag = get_tag(title)\n",
    "    print(tag)\n",
    "    TagMap.create(tag_id=tag.id, entry_id=docid)\n",
    "    \n",
    "    \n",
    "def find_entry(content):\n",
    "    return [entry for entry in Entry.select().join(FTSEntry, on=(Entry.id == FTSEntry.docid)).where(FTSEntry.match(content)).order_by(FTSEntry.rank()).dicts()]\n",
    "\n",
    "def find_tag(title):\n",
    "    return [tag for tag in Tag.select().where(Tag.title.startswith(title)).dicts()]\n",
    "\n",
    "def find_tag_entry(tag_id):\n",
    "    return [entry for entry in Entry.select().join(TagMap, on=TagMap.entry_id).where(TagMap.tag_id == tag_id).dicts()]\n",
    "\n",
    "def add_document(title):\n",
    "    return Document.create(title=title)\n",
    "\n",
    "def add_document_entry(document_id, entry_id, parent_id, prev_id):\n",
    "    return DocumentEntry.create(document_id=document_id, entry_id=entry_id, parent_id=parent_id, prev_id=prev_id)\n",
    "    \n",
    "def get_document_entries(document_id):\n",
    "    return [document_entry for document_entry in DocumentEntry.select().where(DocumentEntry.document_id == document_id).dicts()]\n",
    "    \n",
    "db.create_tables([Entry, FTSEntry, Tag, TagMap, Document, DocumentEntry])    "
   ]
  },
  {
   "cell_type": "code",
   "execution_count": 5,
   "metadata": {},
   "outputs": [],
   "source": [
    "doc = add_content('김문근')\n",
    "doc = add_content('김문근 천재')\n",
    "doc = add_content('김문근 천재 인가요?')"
   ]
  },
  {
   "cell_type": "code",
   "execution_count": 15,
   "metadata": {},
   "outputs": [
    {
     "data": {
      "text/plain": [
       "[{'id': 2,\n",
       "  'content': '김문근 천재',\n",
       "  'create_at': datetime.datetime(2020, 12, 6, 11, 43, 41, 709466),\n",
       "  'modify_at': datetime.datetime(2020, 12, 6, 11, 43, 41, 709466)},\n",
       " {'id': 3,\n",
       "  'content': '김문근 천재 인가요?',\n",
       "  'create_at': datetime.datetime(2020, 12, 6, 11, 43, 41, 718445),\n",
       "  'modify_at': datetime.datetime(2020, 12, 6, 11, 43, 41, 718445)}]"
      ]
     },
     "execution_count": 15,
     "metadata": {},
     "output_type": "execute_result"
    }
   ],
   "source": [
    "find_entry('천재')"
   ]
  },
  {
   "cell_type": "code",
   "execution_count": 16,
   "metadata": {},
   "outputs": [
    {
     "data": {
      "text/plain": [
       "[{'id': 1,\n",
       "  'title': '인물',\n",
       "  'create_at': datetime.datetime(2020, 12, 6, 11, 44, 5, 194307),\n",
       "  'modify_at': datetime.datetime(2020, 12, 6, 11, 44, 5, 194307)}]"
      ]
     },
     "execution_count": 16,
     "metadata": {},
     "output_type": "execute_result"
    }
   ],
   "source": [
    "find_tag('인')"
   ]
  },
  {
   "cell_type": "code",
   "execution_count": 7,
   "metadata": {},
   "outputs": [
    {
     "name": "stdout",
     "output_type": "stream",
     "text": [
      "new -  인물 인물 1\n",
      "1\n"
     ]
    }
   ],
   "source": [
    "add_tag(1, '인물')"
   ]
  },
  {
   "cell_type": "code",
   "execution_count": 123,
   "metadata": {},
   "outputs": [
    {
     "name": "stdout",
     "output_type": "stream",
     "text": [
      "new -  인사 인사 2\n",
      "2\n",
      "exist -  인사 인사 2\n",
      "2\n"
     ]
    }
   ],
   "source": [
    "add_tag(1, '인사')\n",
    "add_tag(2, '인사')"
   ]
  },
  {
   "cell_type": "code",
   "execution_count": 8,
   "metadata": {},
   "outputs": [
    {
     "data": {
      "text/plain": [
       "[{'id': 1,\n",
       "  'content': '김문근',\n",
       "  'create_at': datetime.datetime(2020, 12, 6, 11, 43, 41, 688384),\n",
       "  'modify_at': datetime.datetime(2020, 12, 6, 11, 43, 41, 688384)}]"
      ]
     },
     "execution_count": 8,
     "metadata": {},
     "output_type": "execute_result"
    }
   ],
   "source": [
    "find_tag_entry(1)"
   ]
  },
  {
   "cell_type": "code",
   "execution_count": 21,
   "metadata": {},
   "outputs": [
    {
     "data": {
      "text/plain": [
       "<Document: 1>"
      ]
     },
     "execution_count": 21,
     "metadata": {},
     "output_type": "execute_result"
    }
   ],
   "source": [
    "add_document('연습')"
   ]
  },
  {
   "cell_type": "code",
   "execution_count": 22,
   "metadata": {},
   "outputs": [
    {
     "data": {
      "text/plain": [
       "<DocumentEntry: 1>"
      ]
     },
     "execution_count": 22,
     "metadata": {},
     "output_type": "execute_result"
    }
   ],
   "source": [
    "add_document_entry(1, 1, None, None)"
   ]
  },
  {
   "cell_type": "code",
   "execution_count": 24,
   "metadata": {},
   "outputs": [
    {
     "data": {
      "text/plain": [
       "[{'id': 1,\n",
       "  'document_id': 1,\n",
       "  'entry_id': 1,\n",
       "  'parent_id': None,\n",
       "  'prev_id': None}]"
      ]
     },
     "execution_count": 24,
     "metadata": {},
     "output_type": "execute_result"
    }
   ],
   "source": [
    "get_document_entries(1)"
   ]
  },
  {
   "cell_type": "code",
   "execution_count": null,
   "metadata": {},
   "outputs": [],
   "source": []
  }
 ],
 "metadata": {
  "kernelspec": {
   "display_name": "Python 3",
   "language": "python",
   "name": "python3"
  },
  "language_info": {
   "codemirror_mode": {
    "name": "ipython",
    "version": 3
   },
   "file_extension": ".py",
   "mimetype": "text/x-python",
   "name": "python",
   "nbconvert_exporter": "python",
   "pygments_lexer": "ipython3",
   "version": "3.8.5"
  }
 },
 "nbformat": 4,
 "nbformat_minor": 2
}
