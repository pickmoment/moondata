{
 "cells": [
  {
   "cell_type": "code",
   "execution_count": 1,
   "metadata": {},
   "outputs": [
    {
     "name": "stdout",
     "output_type": "stream",
     "text": [
      "COMPILER=clang-4.0.1\n",
      "ENABLE_COLUMN_METADATA\n",
      "ENABLE_DBSTAT_VTAB\n",
      "ENABLE_FTS3_TOKENIZER\n",
      "ENABLE_FTS4\n",
      "ENABLE_FTS5\n",
      "ENABLE_JSON1\n",
      "ENABLE_RTREE\n",
      "ENABLE_UNLOCK_NOTIFY\n",
      "MAX_EXPR_DEPTH=10000\n",
      "MAX_VARIABLE_NUMBER=250000\n",
      "SECURE_DELETE\n",
      "THREADSAFE=1\n"
     ]
    }
   ],
   "source": [
    "import sqlite3\n",
    "conn = sqlite3.connect(':memory:')\n",
    "cur = conn.cursor()\n",
    "conn.enable_load_extension(True)\n",
    "\n",
    "for (val,) in cur.execute('pragma compile_options'): \n",
    "    print (val)"
   ]
  },
  {
   "cell_type": "markdown",
   "metadata": {},
   "source": [
    "https://komorandocs.readthedocs.io/ko/latest/pykomoran/tutorial.html"
   ]
  },
  {
   "cell_type": "code",
   "execution_count": 3,
   "metadata": {},
   "outputs": [
    {
     "data": {
      "text/plain": [
       "['김문근', '천재']"
      ]
     },
     "execution_count": 3,
     "metadata": {},
     "output_type": "execute_result"
    }
   ],
   "source": [
    "from PyKomoran import *\n",
    "komoran = Komoran(DEFAULT_MODEL['LIGHT'])\n",
    "komoran.set_user_dic('dic/user.dic')\n",
    "komoran.get_nouns(\"김문근은 천재인가요\")"
   ]
  },
  {
   "cell_type": "code",
   "execution_count": 83,
   "metadata": {},
   "outputs": [],
   "source": [
    "from peewee import *\n",
    "from playhouse.sqlite_ext import *\n",
    "import datetime\n",
    "from collections import defaultdict\n",
    "from anytree import Node, RenderTree\n",
    "from PyKomoran import *\n",
    "komoran = Komoran(DEFAULT_MODEL['LIGHT'])\n",
    "komoran.set_user_dic('dic/user.dic')\n",
    "\n",
    "# pragmas = [\n",
    "#     ('journal_mode', 'wal'),\n",
    "#     ('cache_size', -1024 * 32)]\n",
    "# db = SqliteExtDatabase('blog.db', pragmas=pragmas)\n",
    "db = SqliteExtDatabase('treememo.db')\n",
    "\n",
    "\n",
    "class Entry(Model):\n",
    "    content = TextField()\n",
    "    create_at = DateTimeField(default=datetime.datetime.now)\n",
    "    modify_at = DateTimeField(default=datetime.datetime.now)\n",
    "\n",
    "    class Meta:\n",
    "        database = db\n",
    "        \n",
    "class FTSEntry(FTSModel):\n",
    "    content = TextField()\n",
    "\n",
    "    class Meta:\n",
    "        database = db        \n",
    "        \n",
    "class Tag(Model):\n",
    "    title = TextField()\n",
    "    create_at = DateTimeField(default=datetime.datetime.now)\n",
    "    modify_at = DateTimeField(default=datetime.datetime.now)\n",
    "\n",
    "    class Meta:\n",
    "        database = db\n",
    "        \n",
    "class TagMap(Model):\n",
    "    tag_id = ForeignKeyField(Tag, backref='map_tag')\n",
    "    entry_id = ForeignKeyField(Entry, backref='map_entry')\n",
    "\n",
    "    class Meta:\n",
    "        database = db\n",
    "        \n",
    "class Document(Model):\n",
    "    title = TextField()\n",
    "    create_at = DateTimeField(default=datetime.datetime.now)\n",
    "    modify_at = DateTimeField(default=datetime.datetime.now)\n",
    "\n",
    "    class Meta:\n",
    "        database = db\n",
    "    \n",
    "class DocumentEntry(Model):\n",
    "    document_id = ForeignKeyField(Document, backref='map_document')\n",
    "    entry_id = ForeignKeyField(Entry, backref='map_entry')\n",
    "    parent_id = ForeignKeyField('self', null=True, backref='map_parent')\n",
    "    prev_id = ForeignKeyField('self', null=True, backref='map_prev')\n",
    "\n",
    "    class Meta:\n",
    "        database = db\n",
    "        \n",
    "        \n",
    "class NoDocumentEntryException(Exception):\n",
    "    pass\n",
    "        \n",
    "    \n",
    "def add_content(content):\n",
    "    entry = Entry.create(content=content)\n",
    "    FTSEntry.create(docid=entry.id, content='\\n'.join(komoran.get_nouns(content)))\n",
    "    return entry\n",
    "    \n",
    "\n",
    "def get_tag(title):\n",
    "    try:\n",
    "        tag = Tag.get(Tag.title == title)\n",
    "        print('exist - ', title, tag.title, tag.id)\n",
    "    except:    \n",
    "        tag = Tag.create(title=title)\n",
    "        print('new - ', title, tag.title, tag.id)\n",
    "    return tag\n",
    "    \n",
    "def add_tag(docid, title):\n",
    "    tag = get_tag(title)\n",
    "    print(tag)\n",
    "    TagMap.create(tag_id=tag.id, entry_id=docid)\n",
    "    \n",
    "    \n",
    "def find_entry(content):\n",
    "    return [entry for entry in Entry.select().join(FTSEntry, on=(Entry.id == FTSEntry.docid)).where(FTSEntry.match(content)).order_by(FTSEntry.rank()).dicts()]\n",
    "\n",
    "\n",
    "def find_tag(title):\n",
    "    return [tag for tag in Tag.select().where(Tag.title.startswith(title)).dicts()]\n",
    "\n",
    "\n",
    "def find_tag_entry(tag_id):\n",
    "    return [entry for entry in Entry.select().join(TagMap, on=TagMap.entry_id).where(TagMap.tag_id == tag_id).dicts()]\n",
    "\n",
    "\n",
    "def add_document(title):\n",
    "    return Document.create(title=title)\n",
    "\n",
    "\n",
    "def get_document_entry(document_entry_id):\n",
    "    try:\n",
    "        return DocumentEntry.select().where(DocumentEntry.id == document_entry_id).get()\n",
    "    except:\n",
    "        raise NoDocumentEntryException('No Item #' + str(document_entry_id))\n",
    "\n",
    "        \n",
    "def get_native_document_entry(document_id, parent_id, prev_id):\n",
    "    try:\n",
    "        return DocumentEntry.select().where(DocumentEntry.document_id == document_id, DocumentEntry.parent_id == parent_id, DocumentEntry.prev_id == prev_id).get()\n",
    "    except:\n",
    "        return None\n",
    "\n",
    "\n",
    "def get_children_document_entries(document_id, parent_id):\n",
    "    try:\n",
    "        return DocumentEntry.select().where(DocumentEntry.document_id == document_id, DocumentEntry.parent_id == parent_id)\n",
    "    except:\n",
    "        return None\n",
    "    \n",
    "    \n",
    "def add_document_entry(document_id, entry_id, parent_id, prev_id):\n",
    "    if parent_id != None:\n",
    "        get_document_entry(parent_id)\n",
    "    if prev_id != None:\n",
    "        get_document_entry(prev_id)\n",
    "    native = get_native_document_entry(document_id, parent_id, prev_id)\n",
    "    new_doc_entry = DocumentEntry.create(document_id=document_id, entry_id=entry_id, parent_id=parent_id, prev_id=prev_id)\n",
    "    if native:\n",
    "        native.prev_id = new_doc_entry.id\n",
    "        native.save()\n",
    "    return new_doc_entry\n",
    "\n",
    "\n",
    "def delete_document_entry(document_entry_id):\n",
    "    target = get_document_entry(document_entry_id)\n",
    "    children = get_children_document_entries(target.document_id, target.id)\n",
    "    for child in children:\n",
    "        delete_document_entry(child.id)\n",
    "        \n",
    "    native = get_native_document_entry(target.document_id, target.parent_id, target.id)\n",
    "    if native:\n",
    "        native.prev_id = target.prev_id\n",
    "        native.save()\n",
    "    target.delete_instance()\n",
    "    \n",
    "    \n",
    "def move_document_entry(document_entry_id, parent_id, prev_id):\n",
    "    target = get_document_entry(document_entry_id)\n",
    "    native_old_pos = get_native_document_entry(target.document_id, target.parent_id, target.id)\n",
    "    if native_old_pos:\n",
    "        native_old_pos.prev_id = target.prev_id\n",
    "        native_old_pos.save()\n",
    "        \n",
    "    native_new_pos = get_native_document_entry(target.document_id, parent_id, prev_id)\n",
    "    if native_new_pos:\n",
    "        native_new_pos.prev_id = target.id\n",
    "        native_old_pos.save()\n",
    "        \n",
    "    target.parent_id = parent_id\n",
    "    target.prev_id = prev_id\n",
    "    target.save()\n",
    "\n",
    "\n",
    "def get_document_entries(document_id):\n",
    "    return [document_entry for document_entry in DocumentEntry.select(DocumentEntry, Entry.content).join(Entry, on=Entry.id == DocumentEntry.entry_id).where(DocumentEntry.document_id == document_id).dicts()]\n",
    "\n",
    "\n",
    "def items_has_parent(data, parent):\n",
    "    return [d for d in data if d['parent_id'] == parent]\n",
    "\n",
    "\n",
    "def items_has_prev(data, prev):\n",
    "    return [d for d in data if d['prev_id'] == prev]\n",
    "\n",
    "\n",
    "def sort_children(data):\n",
    "    result = list()\n",
    "    items = items_has_prev(data, None)\n",
    "    while items:\n",
    "        item = items[0]\n",
    "        result.append(data.pop(data.index(item)))\n",
    "        items = items_has_prev(data, item['id'])\n",
    "    \n",
    "    return result\n",
    "        \n",
    "\n",
    "def travel_parent(data, parent):\n",
    "    result = list()\n",
    "    items = sort_children(items_has_parent(data, parent))\n",
    "    for item in items:\n",
    "        result.append(data.pop(data.index(item)))\n",
    "        item['children'] = sort_children(travel_parent(data, item['id']))\n",
    "    \n",
    "    return result\n",
    "        \n",
    "def get_document_tree(document_id):\n",
    "    return travel_parent(get_document_entries(document_id), None)\n",
    "  \n",
    "\n",
    "def find_document(title=None):\n",
    "    if not title:\n",
    "        return [document for document in Document.select().dicts()]\n",
    "    \n",
    "    return [document for document in Document.select().where(Document.title.startswith(title)).dicts()]\n",
    "    \n",
    "db.create_tables([Entry, FTSEntry, Tag, TagMap, Document, DocumentEntry])    "
   ]
  },
  {
   "cell_type": "code",
   "execution_count": 7,
   "metadata": {},
   "outputs": [],
   "source": [
    "doc = add_content('김문근')\n",
    "doc = add_content('김문근 천재')\n",
    "doc = add_content('김문근 천재 인가요?')"
   ]
  },
  {
   "cell_type": "code",
   "execution_count": 68,
   "metadata": {},
   "outputs": [
    {
     "data": {
      "text/plain": [
       "<Entry: 4>"
      ]
     },
     "execution_count": 68,
     "metadata": {},
     "output_type": "execute_result"
    }
   ],
   "source": [
    "add_content('학교 가자')"
   ]
  },
  {
   "cell_type": "code",
   "execution_count": 69,
   "metadata": {},
   "outputs": [
    {
     "data": {
      "text/plain": [
       "[{'id': 4,\n",
       "  'content': '학교 가자',\n",
       "  'create_at': datetime.datetime(2020, 12, 12, 21, 10, 39, 758467),\n",
       "  'modify_at': datetime.datetime(2020, 12, 12, 21, 10, 39, 758472)}]"
      ]
     },
     "execution_count": 69,
     "metadata": {},
     "output_type": "execute_result"
    }
   ],
   "source": [
    "find_entry('학교')"
   ]
  },
  {
   "cell_type": "code",
   "execution_count": 11,
   "metadata": {},
   "outputs": [
    {
     "data": {
      "text/plain": [
       "[{'id': 1,\n",
       "  'title': '인물',\n",
       "  'create_at': datetime.datetime(2020, 12, 12, 20, 5, 52, 957749),\n",
       "  'modify_at': datetime.datetime(2020, 12, 12, 20, 5, 52, 957752)}]"
      ]
     },
     "execution_count": 11,
     "metadata": {},
     "output_type": "execute_result"
    }
   ],
   "source": [
    "find_tag('인')"
   ]
  },
  {
   "cell_type": "code",
   "execution_count": 10,
   "metadata": {},
   "outputs": [
    {
     "name": "stdout",
     "output_type": "stream",
     "text": [
      "new -  인물 인물 1\n",
      "1\n"
     ]
    }
   ],
   "source": [
    "add_tag(1, '인물')"
   ]
  },
  {
   "cell_type": "code",
   "execution_count": 12,
   "metadata": {},
   "outputs": [
    {
     "name": "stdout",
     "output_type": "stream",
     "text": [
      "new -  인사 인사 2\n",
      "2\n",
      "exist -  인사 인사 2\n",
      "2\n"
     ]
    }
   ],
   "source": [
    "add_tag(1, '인사')\n",
    "add_tag(2, '인사')"
   ]
  },
  {
   "cell_type": "code",
   "execution_count": 13,
   "metadata": {},
   "outputs": [
    {
     "data": {
      "text/plain": [
       "[{'id': 1,\n",
       "  'content': '김문근',\n",
       "  'create_at': datetime.datetime(2020, 12, 12, 20, 5, 48, 884685),\n",
       "  'modify_at': datetime.datetime(2020, 12, 12, 20, 5, 48, 884688)}]"
      ]
     },
     "execution_count": 13,
     "metadata": {},
     "output_type": "execute_result"
    }
   ],
   "source": [
    "find_tag_entry(1)"
   ]
  },
  {
   "cell_type": "code",
   "execution_count": 19,
   "metadata": {},
   "outputs": [
    {
     "data": {
      "text/plain": [
       "<Document: 2>"
      ]
     },
     "execution_count": 19,
     "metadata": {},
     "output_type": "execute_result"
    }
   ],
   "source": [
    "add_document('연습2')"
   ]
  },
  {
   "cell_type": "code",
   "execution_count": 45,
   "metadata": {},
   "outputs": [
    {
     "ename": "NoDocumentEntryException",
     "evalue": "No Item #100",
     "output_type": "error",
     "traceback": [
      "\u001b[0;31m---------------------------------------------------------------------------\u001b[0m",
      "\u001b[0;31mIndexError\u001b[0m                                Traceback (most recent call last)",
      "\u001b[0;32m~/anaconda3/lib/python3.7/site-packages/peewee.py\u001b[0m in \u001b[0;36mget\u001b[0;34m(self, database)\u001b[0m\n\u001b[1;32m   6859\u001b[0m         \u001b[0;32mtry\u001b[0m\u001b[0;34m:\u001b[0m\u001b[0;34m\u001b[0m\u001b[0;34m\u001b[0m\u001b[0m\n\u001b[0;32m-> 6860\u001b[0;31m             \u001b[0;32mreturn\u001b[0m \u001b[0mclone\u001b[0m\u001b[0;34m.\u001b[0m\u001b[0mexecute\u001b[0m\u001b[0;34m(\u001b[0m\u001b[0mdatabase\u001b[0m\u001b[0;34m)\u001b[0m\u001b[0;34m[\u001b[0m\u001b[0;36m0\u001b[0m\u001b[0;34m]\u001b[0m\u001b[0;34m\u001b[0m\u001b[0;34m\u001b[0m\u001b[0m\n\u001b[0m\u001b[1;32m   6861\u001b[0m         \u001b[0;32mexcept\u001b[0m \u001b[0mIndexError\u001b[0m\u001b[0;34m:\u001b[0m\u001b[0;34m\u001b[0m\u001b[0;34m\u001b[0m\u001b[0m\n",
      "\u001b[0;32m~/anaconda3/lib/python3.7/site-packages/peewee.py\u001b[0m in \u001b[0;36m__getitem__\u001b[0;34m(self, item)\u001b[0m\n\u001b[1;32m   4257\u001b[0m             \u001b[0mself\u001b[0m\u001b[0;34m.\u001b[0m\u001b[0mfill_cache\u001b[0m\u001b[0;34m(\u001b[0m\u001b[0mitem\u001b[0m \u001b[0;32mif\u001b[0m \u001b[0mitem\u001b[0m \u001b[0;34m>\u001b[0m \u001b[0;36m0\u001b[0m \u001b[0;32melse\u001b[0m \u001b[0;36m0\u001b[0m\u001b[0;34m)\u001b[0m\u001b[0;34m\u001b[0m\u001b[0;34m\u001b[0m\u001b[0m\n\u001b[0;32m-> 4258\u001b[0;31m             \u001b[0;32mreturn\u001b[0m \u001b[0mself\u001b[0m\u001b[0;34m.\u001b[0m\u001b[0mrow_cache\u001b[0m\u001b[0;34m[\u001b[0m\u001b[0mitem\u001b[0m\u001b[0;34m]\u001b[0m\u001b[0;34m\u001b[0m\u001b[0;34m\u001b[0m\u001b[0m\n\u001b[0m\u001b[1;32m   4259\u001b[0m         \u001b[0;32melse\u001b[0m\u001b[0;34m:\u001b[0m\u001b[0;34m\u001b[0m\u001b[0;34m\u001b[0m\u001b[0m\n",
      "\u001b[0;31mIndexError\u001b[0m: list index out of range",
      "\nDuring handling of the above exception, another exception occurred:\n",
      "\u001b[0;31mDocumentEntryDoesNotExist\u001b[0m                 Traceback (most recent call last)",
      "\u001b[0;32m<ipython-input-44-1465c033819c>\u001b[0m in \u001b[0;36mget_document_entry\u001b[0;34m(document_entry_id)\u001b[0m\n\u001b[1;32m    100\u001b[0m     \u001b[0;32mtry\u001b[0m\u001b[0;34m:\u001b[0m\u001b[0;34m\u001b[0m\u001b[0;34m\u001b[0m\u001b[0m\n\u001b[0;32m--> 101\u001b[0;31m         \u001b[0;32mreturn\u001b[0m \u001b[0mDocumentEntry\u001b[0m\u001b[0;34m.\u001b[0m\u001b[0mselect\u001b[0m\u001b[0;34m(\u001b[0m\u001b[0;34m)\u001b[0m\u001b[0;34m.\u001b[0m\u001b[0mwhere\u001b[0m\u001b[0;34m(\u001b[0m\u001b[0mDocumentEntry\u001b[0m\u001b[0;34m.\u001b[0m\u001b[0mid\u001b[0m \u001b[0;34m==\u001b[0m \u001b[0mdocument_entry_id\u001b[0m\u001b[0;34m)\u001b[0m\u001b[0;34m.\u001b[0m\u001b[0mget\u001b[0m\u001b[0;34m(\u001b[0m\u001b[0;34m)\u001b[0m\u001b[0;34m\u001b[0m\u001b[0;34m\u001b[0m\u001b[0m\n\u001b[0m\u001b[1;32m    102\u001b[0m     \u001b[0;32mexcept\u001b[0m\u001b[0;34m:\u001b[0m\u001b[0;34m\u001b[0m\u001b[0;34m\u001b[0m\u001b[0m\n",
      "\u001b[0;32m~/anaconda3/lib/python3.7/site-packages/peewee.py\u001b[0m in \u001b[0;36mget\u001b[0;34m(self, database)\u001b[0m\n\u001b[1;32m   6864\u001b[0m                                           \u001b[0;34m'not exist:\\nSQL: %s\\nParams: %s'\u001b[0m \u001b[0;34m%\u001b[0m\u001b[0;34m\u001b[0m\u001b[0;34m\u001b[0m\u001b[0m\n\u001b[0;32m-> 6865\u001b[0;31m                                           (clone.model, sql, params))\n\u001b[0m\u001b[1;32m   6866\u001b[0m \u001b[0;34m\u001b[0m\u001b[0m\n",
      "\u001b[0;31mDocumentEntryDoesNotExist\u001b[0m: <Model: DocumentEntry> instance matching query does not exist:\nSQL: SELECT \"t1\".\"id\", \"t1\".\"document_id\", \"t1\".\"entry_id\", \"t1\".\"parent_id\", \"t1\".\"prev_id\" FROM \"documententry\" AS \"t1\" WHERE (\"t1\".\"id\" = ?) LIMIT ? OFFSET ?\nParams: [100, 1, 0]",
      "\nDuring handling of the above exception, another exception occurred:\n",
      "\u001b[0;31mNoDocumentEntryException\u001b[0m                  Traceback (most recent call last)",
      "\u001b[0;32m<ipython-input-45-bfc41c487541>\u001b[0m in \u001b[0;36m<module>\u001b[0;34m\u001b[0m\n\u001b[0;32m----> 1\u001b[0;31m \u001b[0madd_document_entry\u001b[0m\u001b[0;34m(\u001b[0m\u001b[0;36m1\u001b[0m\u001b[0;34m,\u001b[0m \u001b[0;36m3\u001b[0m\u001b[0;34m,\u001b[0m \u001b[0;36m3\u001b[0m\u001b[0;34m,\u001b[0m \u001b[0;36m100\u001b[0m\u001b[0;34m)\u001b[0m\u001b[0;34m\u001b[0m\u001b[0;34m\u001b[0m\u001b[0m\n\u001b[0m",
      "\u001b[0;32m<ipython-input-44-1465c033819c>\u001b[0m in \u001b[0;36madd_document_entry\u001b[0;34m(document_id, entry_id, parent_id, prev_id)\u001b[0m\n\u001b[1;32m    113\u001b[0m         \u001b[0mget_document_entry\u001b[0m\u001b[0;34m(\u001b[0m\u001b[0mparent_id\u001b[0m\u001b[0;34m)\u001b[0m\u001b[0;34m\u001b[0m\u001b[0;34m\u001b[0m\u001b[0m\n\u001b[1;32m    114\u001b[0m     \u001b[0;32mif\u001b[0m \u001b[0mprev_id\u001b[0m \u001b[0;34m!=\u001b[0m \u001b[0;32mNone\u001b[0m\u001b[0;34m:\u001b[0m\u001b[0;34m\u001b[0m\u001b[0;34m\u001b[0m\u001b[0m\n\u001b[0;32m--> 115\u001b[0;31m         \u001b[0mget_document_entry\u001b[0m\u001b[0;34m(\u001b[0m\u001b[0mprev_id\u001b[0m\u001b[0;34m)\u001b[0m\u001b[0;34m\u001b[0m\u001b[0;34m\u001b[0m\u001b[0m\n\u001b[0m\u001b[1;32m    116\u001b[0m     \u001b[0mnative\u001b[0m \u001b[0;34m=\u001b[0m \u001b[0mget_native_document_entry\u001b[0m\u001b[0;34m(\u001b[0m\u001b[0mdocument_id\u001b[0m\u001b[0;34m,\u001b[0m \u001b[0mparent_id\u001b[0m\u001b[0;34m,\u001b[0m \u001b[0mprev_id\u001b[0m\u001b[0;34m)\u001b[0m\u001b[0;34m\u001b[0m\u001b[0;34m\u001b[0m\u001b[0m\n\u001b[1;32m    117\u001b[0m     \u001b[0mnew_doc_entry\u001b[0m \u001b[0;34m=\u001b[0m \u001b[0mDocumentEntry\u001b[0m\u001b[0;34m.\u001b[0m\u001b[0mcreate\u001b[0m\u001b[0;34m(\u001b[0m\u001b[0mdocument_id\u001b[0m\u001b[0;34m=\u001b[0m\u001b[0mdocument_id\u001b[0m\u001b[0;34m,\u001b[0m \u001b[0mentry_id\u001b[0m\u001b[0;34m=\u001b[0m\u001b[0mentry_id\u001b[0m\u001b[0;34m,\u001b[0m \u001b[0mparent_id\u001b[0m\u001b[0;34m=\u001b[0m\u001b[0mparent_id\u001b[0m\u001b[0;34m,\u001b[0m \u001b[0mprev_id\u001b[0m\u001b[0;34m=\u001b[0m\u001b[0mprev_id\u001b[0m\u001b[0;34m)\u001b[0m\u001b[0;34m\u001b[0m\u001b[0;34m\u001b[0m\u001b[0m\n",
      "\u001b[0;32m<ipython-input-44-1465c033819c>\u001b[0m in \u001b[0;36mget_document_entry\u001b[0;34m(document_entry_id)\u001b[0m\n\u001b[1;32m    101\u001b[0m         \u001b[0;32mreturn\u001b[0m \u001b[0mDocumentEntry\u001b[0m\u001b[0;34m.\u001b[0m\u001b[0mselect\u001b[0m\u001b[0;34m(\u001b[0m\u001b[0;34m)\u001b[0m\u001b[0;34m.\u001b[0m\u001b[0mwhere\u001b[0m\u001b[0;34m(\u001b[0m\u001b[0mDocumentEntry\u001b[0m\u001b[0;34m.\u001b[0m\u001b[0mid\u001b[0m \u001b[0;34m==\u001b[0m \u001b[0mdocument_entry_id\u001b[0m\u001b[0;34m)\u001b[0m\u001b[0;34m.\u001b[0m\u001b[0mget\u001b[0m\u001b[0;34m(\u001b[0m\u001b[0;34m)\u001b[0m\u001b[0;34m\u001b[0m\u001b[0;34m\u001b[0m\u001b[0m\n\u001b[1;32m    102\u001b[0m     \u001b[0;32mexcept\u001b[0m\u001b[0;34m:\u001b[0m\u001b[0;34m\u001b[0m\u001b[0;34m\u001b[0m\u001b[0m\n\u001b[0;32m--> 103\u001b[0;31m         \u001b[0;32mraise\u001b[0m \u001b[0mNoDocumentEntryException\u001b[0m\u001b[0;34m(\u001b[0m\u001b[0;34m'No Item #'\u001b[0m \u001b[0;34m+\u001b[0m \u001b[0mstr\u001b[0m\u001b[0;34m(\u001b[0m\u001b[0mdocument_entry_id\u001b[0m\u001b[0;34m)\u001b[0m\u001b[0;34m)\u001b[0m\u001b[0;34m\u001b[0m\u001b[0;34m\u001b[0m\u001b[0m\n\u001b[0m\u001b[1;32m    104\u001b[0m \u001b[0;34m\u001b[0m\u001b[0m\n\u001b[1;32m    105\u001b[0m \u001b[0;32mdef\u001b[0m \u001b[0mget_native_document_entry\u001b[0m\u001b[0;34m(\u001b[0m\u001b[0mdocument_id\u001b[0m\u001b[0;34m,\u001b[0m \u001b[0mparent_id\u001b[0m\u001b[0;34m,\u001b[0m \u001b[0mprev_id\u001b[0m\u001b[0;34m)\u001b[0m\u001b[0;34m:\u001b[0m\u001b[0;34m\u001b[0m\u001b[0;34m\u001b[0m\u001b[0m\n",
      "\u001b[0;31mNoDocumentEntryException\u001b[0m: No Item #100"
     ]
    }
   ],
   "source": [
    "add_document_entry(1, 3, 3, 100)"
   ]
  },
  {
   "cell_type": "code",
   "execution_count": 81,
   "metadata": {},
   "outputs": [
    {
     "data": {
      "text/plain": [
       "[{'id': 2,\n",
       "  'document_id': 1,\n",
       "  'entry_id': 2,\n",
       "  'parent_id': None,\n",
       "  'prev_id': 4,\n",
       "  'content': '김문근 천재'},\n",
       " {'id': 4,\n",
       "  'document_id': 1,\n",
       "  'entry_id': 3,\n",
       "  'parent_id': None,\n",
       "  'prev_id': None,\n",
       "  'content': '김문근 천재 인가요?'}]"
      ]
     },
     "execution_count": 81,
     "metadata": {},
     "output_type": "execute_result"
    }
   ],
   "source": [
    "get_document_entries(1)"
   ]
  },
  {
   "cell_type": "code",
   "execution_count": 70,
   "metadata": {},
   "outputs": [
    {
     "data": {
      "text/plain": [
       "<DocumentEntry: 5>"
      ]
     },
     "execution_count": 70,
     "metadata": {},
     "output_type": "execute_result"
    }
   ],
   "source": [
    "add_document_entry(1, 4, 1, None)"
   ]
  },
  {
   "cell_type": "code",
   "execution_count": 26,
   "metadata": {},
   "outputs": [],
   "source": [
    "get_native_document_entry(1, None, 3)"
   ]
  },
  {
   "cell_type": "code",
   "execution_count": 57,
   "metadata": {},
   "outputs": [
    {
     "data": {
      "text/plain": [
       "[{'id': 1,\n",
       "  'title': '연습',\n",
       "  'create_at': datetime.datetime(2020, 12, 12, 20, 6, 33, 381421),\n",
       "  'modify_at': datetime.datetime(2020, 12, 12, 20, 6, 33, 381426)},\n",
       " {'id': 2,\n",
       "  'title': '연습2',\n",
       "  'create_at': datetime.datetime(2020, 12, 12, 20, 10, 41, 509277),\n",
       "  'modify_at': datetime.datetime(2020, 12, 12, 20, 10, 41, 509280)}]"
      ]
     },
     "execution_count": 57,
     "metadata": {},
     "output_type": "execute_result"
    }
   ],
   "source": [
    "find_document()"
   ]
  },
  {
   "cell_type": "code",
   "execution_count": 58,
   "metadata": {},
   "outputs": [
    {
     "data": {
      "text/plain": [
       "[{'id': 1,\n",
       "  'title': '연습',\n",
       "  'create_at': datetime.datetime(2020, 12, 12, 20, 6, 33, 381421),\n",
       "  'modify_at': datetime.datetime(2020, 12, 12, 20, 6, 33, 381426)},\n",
       " {'id': 2,\n",
       "  'title': '연습2',\n",
       "  'create_at': datetime.datetime(2020, 12, 12, 20, 10, 41, 509277),\n",
       "  'modify_at': datetime.datetime(2020, 12, 12, 20, 10, 41, 509280)}]"
      ]
     },
     "execution_count": 58,
     "metadata": {},
     "output_type": "execute_result"
    }
   ],
   "source": [
    "find_document('연')"
   ]
  },
  {
   "cell_type": "code",
   "execution_count": 85,
   "metadata": {},
   "outputs": [
    {
     "data": {
      "text/plain": [
       "[{'id': 2,\n",
       "  'document_id': 1,\n",
       "  'entry_id': 2,\n",
       "  'parent_id': None,\n",
       "  'prev_id': None,\n",
       "  'content': '김문근 천재',\n",
       "  'children': []},\n",
       " {'id': 4,\n",
       "  'document_id': 1,\n",
       "  'entry_id': 3,\n",
       "  'parent_id': None,\n",
       "  'prev_id': 2,\n",
       "  'content': '김문근 천재 인가요?',\n",
       "  'children': []}]"
      ]
     },
     "execution_count": 85,
     "metadata": {},
     "output_type": "execute_result"
    }
   ],
   "source": [
    "get_document_tree(1)"
   ]
  },
  {
   "cell_type": "code",
   "execution_count": 79,
   "metadata": {},
   "outputs": [],
   "source": [
    "delete_document_entry(1)"
   ]
  },
  {
   "cell_type": "code",
   "execution_count": 84,
   "metadata": {},
   "outputs": [],
   "source": [
    "move_document_entry(4, None, 2)"
   ]
  },
  {
   "cell_type": "code",
   "execution_count": null,
   "metadata": {},
   "outputs": [],
   "source": []
  }
 ],
 "metadata": {
  "kernelspec": {
   "display_name": "Python 3",
   "language": "python",
   "name": "python3"
  },
  "language_info": {
   "codemirror_mode": {
    "name": "ipython",
    "version": 3
   },
   "file_extension": ".py",
   "mimetype": "text/x-python",
   "name": "python",
   "nbconvert_exporter": "python",
   "pygments_lexer": "ipython3",
   "version": "3.8.5"
  }
 },
 "nbformat": 4,
 "nbformat_minor": 4
}
