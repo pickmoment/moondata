{
 "cells": [
  {
   "cell_type": "code",
   "execution_count": 1,
   "metadata": {},
   "outputs": [
    {
     "name": "stdout",
     "output_type": "stream",
     "text": [
      "COMPILER=clang-4.0.1\n",
      "ENABLE_COLUMN_METADATA\n",
      "ENABLE_DBSTAT_VTAB\n",
      "ENABLE_FTS3_TOKENIZER\n",
      "ENABLE_FTS4\n",
      "ENABLE_FTS5\n",
      "ENABLE_JSON1\n",
      "ENABLE_RTREE\n",
      "ENABLE_UNLOCK_NOTIFY\n",
      "MAX_EXPR_DEPTH=10000\n",
      "MAX_VARIABLE_NUMBER=250000\n",
      "SECURE_DELETE\n",
      "THREADSAFE=1\n"
     ]
    }
   ],
   "source": [
    "import sqlite3\n",
    "conn = sqlite3.connect(':memory:')\n",
    "cur = conn.cursor()\n",
    "conn.enable_load_extension(True)\n",
    "\n",
    "for (val,) in cur.execute('pragma compile_options'): \n",
    "    print (val)"
   ]
  },
  {
   "cell_type": "markdown",
   "metadata": {},
   "source": [
    "https://komorandocs.readthedocs.io/ko/latest/pykomoran/tutorial.html"
   ]
  },
  {
   "cell_type": "code",
   "execution_count": 3,
   "metadata": {},
   "outputs": [
    {
     "data": {
      "text/plain": [
       "['김문근', '천재']"
      ]
     },
     "execution_count": 3,
     "metadata": {},
     "output_type": "execute_result"
    }
   ],
   "source": [
    "from PyKomoran import *\n",
    "komoran = Komoran(DEFAULT_MODEL['LIGHT'])\n",
    "komoran.set_user_dic('dic/user.dic')\n",
    "komoran.get_nouns(\"김문근은 천재인가요\")"
   ]
  },
  {
   "cell_type": "code",
   "execution_count": 82,
   "metadata": {},
   "outputs": [
    {
     "ename": "IndentationError",
     "evalue": "expected an indented block (<ipython-input-82-549ae7df202d>, line 159)",
     "output_type": "error",
     "traceback": [
      "\u001b[0;36m  File \u001b[0;32m\"<ipython-input-82-549ae7df202d>\"\u001b[0;36m, line \u001b[0;32m159\u001b[0m\n\u001b[0;31m    return parent_map\u001b[0m\n\u001b[0m    ^\u001b[0m\n\u001b[0;31mIndentationError\u001b[0m\u001b[0;31m:\u001b[0m expected an indented block\n"
     ]
    }
   ],
   "source": [
    "from peewee import *\n",
    "from playhouse.sqlite_ext import *\n",
    "import datetime\n",
    "from collections import defaultdict\n",
    "from anytree import Node, RenderTree\n",
    "from PyKomoran import *\n",
    "komoran = Komoran(DEFAULT_MODEL['LIGHT'])\n",
    "komoran.set_user_dic('dic/user.dic')\n",
    "\n",
    "# pragmas = [\n",
    "#     ('journal_mode', 'wal'),\n",
    "#     ('cache_size', -1024 * 32)]\n",
    "# db = SqliteExtDatabase('blog.db', pragmas=pragmas)\n",
    "db = SqliteExtDatabase('treememo.db')\n",
    "\n",
    "\n",
    "class Entry(Model):\n",
    "    content = TextField()\n",
    "    create_at = DateTimeField(default=datetime.datetime.now)\n",
    "    modify_at = DateTimeField(default=datetime.datetime.now)\n",
    "\n",
    "    class Meta:\n",
    "        database = db\n",
    "        \n",
    "class FTSEntry(FTSModel):\n",
    "    content = TextField()\n",
    "\n",
    "    class Meta:\n",
    "        database = db        \n",
    "        \n",
    "class Tag(Model):\n",
    "    title = TextField()\n",
    "    create_at = DateTimeField(default=datetime.datetime.now)\n",
    "    modify_at = DateTimeField(default=datetime.datetime.now)\n",
    "\n",
    "    class Meta:\n",
    "        database = db\n",
    "        \n",
    "class TagMap(Model):\n",
    "    tag_id = ForeignKeyField(Tag, backref='map_tag')\n",
    "    entry_id = ForeignKeyField(Entry, backref='map_entry')\n",
    "\n",
    "    class Meta:\n",
    "        database = db\n",
    "        \n",
    "class Document(Model):\n",
    "    title = TextField()\n",
    "    create_at = DateTimeField(default=datetime.datetime.now)\n",
    "    modify_at = DateTimeField(default=datetime.datetime.now)\n",
    "\n",
    "    class Meta:\n",
    "        database = db\n",
    "    \n",
    "class DocumentEntry(Model):\n",
    "    document_id = ForeignKeyField(Document, backref='map_document')\n",
    "    entry_id = ForeignKeyField(Entry, backref='map_entry')\n",
    "    parent_id = ForeignKeyField('self', null=True, backref='map_parent')\n",
    "    prev_id = ForeignKeyField('self', null=True, backref='map_prev')\n",
    "\n",
    "    class Meta:\n",
    "        database = db\n",
    "        \n",
    "        \n",
    "class NoDocumentEntryException(Exception):\n",
    "    pass\n",
    "        \n",
    "    \n",
    "def add_content(content):\n",
    "    entry = Entry.create(content=content)\n",
    "    FTSEntry.create(docid=entry.id, content='\\n'.join(komoran.get_nouns(content)))\n",
    "    return entry\n",
    "    \n",
    "\n",
    "def get_tag(title):\n",
    "    try:\n",
    "        tag = Tag.get(Tag.title == title)\n",
    "        print('exist - ', title, tag.title, tag.id)\n",
    "    except:    \n",
    "        tag = Tag.create(title=title)\n",
    "        print('new - ', title, tag.title, tag.id)\n",
    "    return tag\n",
    "    \n",
    "def add_tag(docid, title):\n",
    "    tag = get_tag(title)\n",
    "    print(tag)\n",
    "    TagMap.create(tag_id=tag.id, entry_id=docid)\n",
    "    \n",
    "    \n",
    "def find_entry(content):\n",
    "    return [entry for entry in Entry.select().join(FTSEntry, on=(Entry.id == FTSEntry.docid)).where(FTSEntry.match(content)).order_by(FTSEntry.rank()).dicts()]\n",
    "\n",
    "def find_tag(title):\n",
    "    return [tag for tag in Tag.select().where(Tag.title.startswith(title)).dicts()]\n",
    "\n",
    "def find_tag_entry(tag_id):\n",
    "    return [entry for entry in Entry.select().join(TagMap, on=TagMap.entry_id).where(TagMap.tag_id == tag_id).dicts()]\n",
    "\n",
    "def add_document(title):\n",
    "    return Document.create(title=title)\n",
    "\n",
    "def get_document_entry(document_entry_id):\n",
    "    try:\n",
    "        return DocumentEntry.select().where(DocumentEntry.id == document_entry_id).get()\n",
    "    except:\n",
    "        raise NoDocumentEntryException('No Item #' + str(document_entry_id))\n",
    "\n",
    "def get_native_document_entry(document_id, parent_id, prev_id):\n",
    "    try:\n",
    "        return DocumentEntry.select().where(DocumentEntry.document_id == document_id, DocumentEntry.parent_id == parent_id, DocumentEntry.prev_id == prev_id).get()\n",
    "    except:\n",
    "        return None\n",
    "\n",
    "def add_document_entry(document_id, entry_id, parent_id, prev_id):\n",
    "    if parent_id != None:\n",
    "        get_document_entry(parent_id)\n",
    "    if prev_id != None:\n",
    "        get_document_entry(prev_id)\n",
    "    native = get_native_document_entry(document_id, parent_id, prev_id)\n",
    "    new_doc_entry = DocumentEntry.create(document_id=document_id, entry_id=entry_id, parent_id=parent_id, prev_id=prev_id)\n",
    "    if native:\n",
    "        native.prev_id = new_doc_entry.id\n",
    "        native.save()\n",
    "    return new_doc_entry\n",
    "    \n",
    "def get_document_entries(document_id):\n",
    "    return [document_entry for document_entry in DocumentEntry.select(DocumentEntry, Entry.content).join(Entry, on=Entry.id == DocumentEntry.entry_id).where(DocumentEntry.document_id == document_id).dicts()]\n",
    "\n",
    "\n",
    "def add_two_items(lists, prev_item, next_item):\n",
    "    if not prev_item:\n",
    "        if next_item not in lists:\n",
    "            lists.insert(0, next_item)\n",
    "    else:\n",
    "        if prev_item not in lists:\n",
    "            lists.insert(0, prev_item)\n",
    "            lists.insert(1, next_item)\n",
    "        else:\n",
    "            lists.insert(lists.index(prev_item)+1, next_item)\n",
    "    return lists\n",
    "\n",
    "        \n",
    "# Working....\n",
    "def get_document_tree(document_id):\n",
    "    parent_map = defaultdict([])\n",
    "    prev_map = defaultdict([])\n",
    "    for entry in get_document_entries(document_id):\n",
    "        ids = parent_map[entry['parent_id']]\n",
    "        if entry['prev_id'] == None:\n",
    "            ids.insert(0, entry['id'])\n",
    "        else:\n",
    "            if entry['prev_id'] in ids:\n",
    "                ids.insert(ids.index(entry['prev_id'])+1, entry['id'])\n",
    "            else:\n",
    "                prev_map[entry['prev_id']].append(entry['id'])\n",
    "            \n",
    "            if entry['id'] in prev_map:\n",
    "                \n",
    "        \n",
    "    return parent_map\n",
    "    \n",
    "\n",
    "def find_document(title=None):\n",
    "    if not title:\n",
    "        return [document for document in Document.select().dicts()]\n",
    "    \n",
    "    return [document for document in Document.select().where(Document.title.startswith(title)).dicts()]\n",
    "    \n",
    "db.create_tables([Entry, FTSEntry, Tag, TagMap, Document, DocumentEntry])    "
   ]
  },
  {
   "cell_type": "code",
   "execution_count": 7,
   "metadata": {},
   "outputs": [],
   "source": [
    "doc = add_content('김문근')\n",
    "doc = add_content('김문근 천재')\n",
    "doc = add_content('김문근 천재 인가요?')"
   ]
  },
  {
   "cell_type": "code",
   "execution_count": 68,
   "metadata": {},
   "outputs": [
    {
     "data": {
      "text/plain": [
       "<Entry: 4>"
      ]
     },
     "execution_count": 68,
     "metadata": {},
     "output_type": "execute_result"
    }
   ],
   "source": [
    "add_content('학교 가자')"
   ]
  },
  {
   "cell_type": "code",
   "execution_count": 69,
   "metadata": {},
   "outputs": [
    {
     "data": {
      "text/plain": [
       "[{'id': 4,\n",
       "  'content': '학교 가자',\n",
       "  'create_at': datetime.datetime(2020, 12, 12, 21, 10, 39, 758467),\n",
       "  'modify_at': datetime.datetime(2020, 12, 12, 21, 10, 39, 758472)}]"
      ]
     },
     "execution_count": 69,
     "metadata": {},
     "output_type": "execute_result"
    }
   ],
   "source": [
    "find_entry('학교')"
   ]
  },
  {
   "cell_type": "code",
   "execution_count": 11,
   "metadata": {},
   "outputs": [
    {
     "data": {
      "text/plain": [
       "[{'id': 1,\n",
       "  'title': '인물',\n",
       "  'create_at': datetime.datetime(2020, 12, 12, 20, 5, 52, 957749),\n",
       "  'modify_at': datetime.datetime(2020, 12, 12, 20, 5, 52, 957752)}]"
      ]
     },
     "execution_count": 11,
     "metadata": {},
     "output_type": "execute_result"
    }
   ],
   "source": [
    "find_tag('인')"
   ]
  },
  {
   "cell_type": "code",
   "execution_count": 10,
   "metadata": {},
   "outputs": [
    {
     "name": "stdout",
     "output_type": "stream",
     "text": [
      "new -  인물 인물 1\n",
      "1\n"
     ]
    }
   ],
   "source": [
    "add_tag(1, '인물')"
   ]
  },
  {
   "cell_type": "code",
   "execution_count": 12,
   "metadata": {},
   "outputs": [
    {
     "name": "stdout",
     "output_type": "stream",
     "text": [
      "new -  인사 인사 2\n",
      "2\n",
      "exist -  인사 인사 2\n",
      "2\n"
     ]
    }
   ],
   "source": [
    "add_tag(1, '인사')\n",
    "add_tag(2, '인사')"
   ]
  },
  {
   "cell_type": "code",
   "execution_count": 13,
   "metadata": {},
   "outputs": [
    {
     "data": {
      "text/plain": [
       "[{'id': 1,\n",
       "  'content': '김문근',\n",
       "  'create_at': datetime.datetime(2020, 12, 12, 20, 5, 48, 884685),\n",
       "  'modify_at': datetime.datetime(2020, 12, 12, 20, 5, 48, 884688)}]"
      ]
     },
     "execution_count": 13,
     "metadata": {},
     "output_type": "execute_result"
    }
   ],
   "source": [
    "find_tag_entry(1)"
   ]
  },
  {
   "cell_type": "code",
   "execution_count": 19,
   "metadata": {},
   "outputs": [
    {
     "data": {
      "text/plain": [
       "<Document: 2>"
      ]
     },
     "execution_count": 19,
     "metadata": {},
     "output_type": "execute_result"
    }
   ],
   "source": [
    "add_document('연습2')"
   ]
  },
  {
   "cell_type": "code",
   "execution_count": 45,
   "metadata": {},
   "outputs": [
    {
     "ename": "NoDocumentEntryException",
     "evalue": "No Item #100",
     "output_type": "error",
     "traceback": [
      "\u001b[0;31m---------------------------------------------------------------------------\u001b[0m",
      "\u001b[0;31mIndexError\u001b[0m                                Traceback (most recent call last)",
      "\u001b[0;32m~/anaconda3/lib/python3.7/site-packages/peewee.py\u001b[0m in \u001b[0;36mget\u001b[0;34m(self, database)\u001b[0m\n\u001b[1;32m   6859\u001b[0m         \u001b[0;32mtry\u001b[0m\u001b[0;34m:\u001b[0m\u001b[0;34m\u001b[0m\u001b[0;34m\u001b[0m\u001b[0m\n\u001b[0;32m-> 6860\u001b[0;31m             \u001b[0;32mreturn\u001b[0m \u001b[0mclone\u001b[0m\u001b[0;34m.\u001b[0m\u001b[0mexecute\u001b[0m\u001b[0;34m(\u001b[0m\u001b[0mdatabase\u001b[0m\u001b[0;34m)\u001b[0m\u001b[0;34m[\u001b[0m\u001b[0;36m0\u001b[0m\u001b[0;34m]\u001b[0m\u001b[0;34m\u001b[0m\u001b[0;34m\u001b[0m\u001b[0m\n\u001b[0m\u001b[1;32m   6861\u001b[0m         \u001b[0;32mexcept\u001b[0m \u001b[0mIndexError\u001b[0m\u001b[0;34m:\u001b[0m\u001b[0;34m\u001b[0m\u001b[0;34m\u001b[0m\u001b[0m\n",
      "\u001b[0;32m~/anaconda3/lib/python3.7/site-packages/peewee.py\u001b[0m in \u001b[0;36m__getitem__\u001b[0;34m(self, item)\u001b[0m\n\u001b[1;32m   4257\u001b[0m             \u001b[0mself\u001b[0m\u001b[0;34m.\u001b[0m\u001b[0mfill_cache\u001b[0m\u001b[0;34m(\u001b[0m\u001b[0mitem\u001b[0m \u001b[0;32mif\u001b[0m \u001b[0mitem\u001b[0m \u001b[0;34m>\u001b[0m \u001b[0;36m0\u001b[0m \u001b[0;32melse\u001b[0m \u001b[0;36m0\u001b[0m\u001b[0;34m)\u001b[0m\u001b[0;34m\u001b[0m\u001b[0;34m\u001b[0m\u001b[0m\n\u001b[0;32m-> 4258\u001b[0;31m             \u001b[0;32mreturn\u001b[0m \u001b[0mself\u001b[0m\u001b[0;34m.\u001b[0m\u001b[0mrow_cache\u001b[0m\u001b[0;34m[\u001b[0m\u001b[0mitem\u001b[0m\u001b[0;34m]\u001b[0m\u001b[0;34m\u001b[0m\u001b[0;34m\u001b[0m\u001b[0m\n\u001b[0m\u001b[1;32m   4259\u001b[0m         \u001b[0;32melse\u001b[0m\u001b[0;34m:\u001b[0m\u001b[0;34m\u001b[0m\u001b[0;34m\u001b[0m\u001b[0m\n",
      "\u001b[0;31mIndexError\u001b[0m: list index out of range",
      "\nDuring handling of the above exception, another exception occurred:\n",
      "\u001b[0;31mDocumentEntryDoesNotExist\u001b[0m                 Traceback (most recent call last)",
      "\u001b[0;32m<ipython-input-44-1465c033819c>\u001b[0m in \u001b[0;36mget_document_entry\u001b[0;34m(document_entry_id)\u001b[0m\n\u001b[1;32m    100\u001b[0m     \u001b[0;32mtry\u001b[0m\u001b[0;34m:\u001b[0m\u001b[0;34m\u001b[0m\u001b[0;34m\u001b[0m\u001b[0m\n\u001b[0;32m--> 101\u001b[0;31m         \u001b[0;32mreturn\u001b[0m \u001b[0mDocumentEntry\u001b[0m\u001b[0;34m.\u001b[0m\u001b[0mselect\u001b[0m\u001b[0;34m(\u001b[0m\u001b[0;34m)\u001b[0m\u001b[0;34m.\u001b[0m\u001b[0mwhere\u001b[0m\u001b[0;34m(\u001b[0m\u001b[0mDocumentEntry\u001b[0m\u001b[0;34m.\u001b[0m\u001b[0mid\u001b[0m \u001b[0;34m==\u001b[0m \u001b[0mdocument_entry_id\u001b[0m\u001b[0;34m)\u001b[0m\u001b[0;34m.\u001b[0m\u001b[0mget\u001b[0m\u001b[0;34m(\u001b[0m\u001b[0;34m)\u001b[0m\u001b[0;34m\u001b[0m\u001b[0;34m\u001b[0m\u001b[0m\n\u001b[0m\u001b[1;32m    102\u001b[0m     \u001b[0;32mexcept\u001b[0m\u001b[0;34m:\u001b[0m\u001b[0;34m\u001b[0m\u001b[0;34m\u001b[0m\u001b[0m\n",
      "\u001b[0;32m~/anaconda3/lib/python3.7/site-packages/peewee.py\u001b[0m in \u001b[0;36mget\u001b[0;34m(self, database)\u001b[0m\n\u001b[1;32m   6864\u001b[0m                                           \u001b[0;34m'not exist:\\nSQL: %s\\nParams: %s'\u001b[0m \u001b[0;34m%\u001b[0m\u001b[0;34m\u001b[0m\u001b[0;34m\u001b[0m\u001b[0m\n\u001b[0;32m-> 6865\u001b[0;31m                                           (clone.model, sql, params))\n\u001b[0m\u001b[1;32m   6866\u001b[0m \u001b[0;34m\u001b[0m\u001b[0m\n",
      "\u001b[0;31mDocumentEntryDoesNotExist\u001b[0m: <Model: DocumentEntry> instance matching query does not exist:\nSQL: SELECT \"t1\".\"id\", \"t1\".\"document_id\", \"t1\".\"entry_id\", \"t1\".\"parent_id\", \"t1\".\"prev_id\" FROM \"documententry\" AS \"t1\" WHERE (\"t1\".\"id\" = ?) LIMIT ? OFFSET ?\nParams: [100, 1, 0]",
      "\nDuring handling of the above exception, another exception occurred:\n",
      "\u001b[0;31mNoDocumentEntryException\u001b[0m                  Traceback (most recent call last)",
      "\u001b[0;32m<ipython-input-45-bfc41c487541>\u001b[0m in \u001b[0;36m<module>\u001b[0;34m\u001b[0m\n\u001b[0;32m----> 1\u001b[0;31m \u001b[0madd_document_entry\u001b[0m\u001b[0;34m(\u001b[0m\u001b[0;36m1\u001b[0m\u001b[0;34m,\u001b[0m \u001b[0;36m3\u001b[0m\u001b[0;34m,\u001b[0m \u001b[0;36m3\u001b[0m\u001b[0;34m,\u001b[0m \u001b[0;36m100\u001b[0m\u001b[0;34m)\u001b[0m\u001b[0;34m\u001b[0m\u001b[0;34m\u001b[0m\u001b[0m\n\u001b[0m",
      "\u001b[0;32m<ipython-input-44-1465c033819c>\u001b[0m in \u001b[0;36madd_document_entry\u001b[0;34m(document_id, entry_id, parent_id, prev_id)\u001b[0m\n\u001b[1;32m    113\u001b[0m         \u001b[0mget_document_entry\u001b[0m\u001b[0;34m(\u001b[0m\u001b[0mparent_id\u001b[0m\u001b[0;34m)\u001b[0m\u001b[0;34m\u001b[0m\u001b[0;34m\u001b[0m\u001b[0m\n\u001b[1;32m    114\u001b[0m     \u001b[0;32mif\u001b[0m \u001b[0mprev_id\u001b[0m \u001b[0;34m!=\u001b[0m \u001b[0;32mNone\u001b[0m\u001b[0;34m:\u001b[0m\u001b[0;34m\u001b[0m\u001b[0;34m\u001b[0m\u001b[0m\n\u001b[0;32m--> 115\u001b[0;31m         \u001b[0mget_document_entry\u001b[0m\u001b[0;34m(\u001b[0m\u001b[0mprev_id\u001b[0m\u001b[0;34m)\u001b[0m\u001b[0;34m\u001b[0m\u001b[0;34m\u001b[0m\u001b[0m\n\u001b[0m\u001b[1;32m    116\u001b[0m     \u001b[0mnative\u001b[0m \u001b[0;34m=\u001b[0m \u001b[0mget_native_document_entry\u001b[0m\u001b[0;34m(\u001b[0m\u001b[0mdocument_id\u001b[0m\u001b[0;34m,\u001b[0m \u001b[0mparent_id\u001b[0m\u001b[0;34m,\u001b[0m \u001b[0mprev_id\u001b[0m\u001b[0;34m)\u001b[0m\u001b[0;34m\u001b[0m\u001b[0;34m\u001b[0m\u001b[0m\n\u001b[1;32m    117\u001b[0m     \u001b[0mnew_doc_entry\u001b[0m \u001b[0;34m=\u001b[0m \u001b[0mDocumentEntry\u001b[0m\u001b[0;34m.\u001b[0m\u001b[0mcreate\u001b[0m\u001b[0;34m(\u001b[0m\u001b[0mdocument_id\u001b[0m\u001b[0;34m=\u001b[0m\u001b[0mdocument_id\u001b[0m\u001b[0;34m,\u001b[0m \u001b[0mentry_id\u001b[0m\u001b[0;34m=\u001b[0m\u001b[0mentry_id\u001b[0m\u001b[0;34m,\u001b[0m \u001b[0mparent_id\u001b[0m\u001b[0;34m=\u001b[0m\u001b[0mparent_id\u001b[0m\u001b[0;34m,\u001b[0m \u001b[0mprev_id\u001b[0m\u001b[0;34m=\u001b[0m\u001b[0mprev_id\u001b[0m\u001b[0;34m)\u001b[0m\u001b[0;34m\u001b[0m\u001b[0;34m\u001b[0m\u001b[0m\n",
      "\u001b[0;32m<ipython-input-44-1465c033819c>\u001b[0m in \u001b[0;36mget_document_entry\u001b[0;34m(document_entry_id)\u001b[0m\n\u001b[1;32m    101\u001b[0m         \u001b[0;32mreturn\u001b[0m \u001b[0mDocumentEntry\u001b[0m\u001b[0;34m.\u001b[0m\u001b[0mselect\u001b[0m\u001b[0;34m(\u001b[0m\u001b[0;34m)\u001b[0m\u001b[0;34m.\u001b[0m\u001b[0mwhere\u001b[0m\u001b[0;34m(\u001b[0m\u001b[0mDocumentEntry\u001b[0m\u001b[0;34m.\u001b[0m\u001b[0mid\u001b[0m \u001b[0;34m==\u001b[0m \u001b[0mdocument_entry_id\u001b[0m\u001b[0;34m)\u001b[0m\u001b[0;34m.\u001b[0m\u001b[0mget\u001b[0m\u001b[0;34m(\u001b[0m\u001b[0;34m)\u001b[0m\u001b[0;34m\u001b[0m\u001b[0;34m\u001b[0m\u001b[0m\n\u001b[1;32m    102\u001b[0m     \u001b[0;32mexcept\u001b[0m\u001b[0;34m:\u001b[0m\u001b[0;34m\u001b[0m\u001b[0;34m\u001b[0m\u001b[0m\n\u001b[0;32m--> 103\u001b[0;31m         \u001b[0;32mraise\u001b[0m \u001b[0mNoDocumentEntryException\u001b[0m\u001b[0;34m(\u001b[0m\u001b[0;34m'No Item #'\u001b[0m \u001b[0;34m+\u001b[0m \u001b[0mstr\u001b[0m\u001b[0;34m(\u001b[0m\u001b[0mdocument_entry_id\u001b[0m\u001b[0;34m)\u001b[0m\u001b[0;34m)\u001b[0m\u001b[0;34m\u001b[0m\u001b[0;34m\u001b[0m\u001b[0m\n\u001b[0m\u001b[1;32m    104\u001b[0m \u001b[0;34m\u001b[0m\u001b[0m\n\u001b[1;32m    105\u001b[0m \u001b[0;32mdef\u001b[0m \u001b[0mget_native_document_entry\u001b[0m\u001b[0;34m(\u001b[0m\u001b[0mdocument_id\u001b[0m\u001b[0;34m,\u001b[0m \u001b[0mparent_id\u001b[0m\u001b[0;34m,\u001b[0m \u001b[0mprev_id\u001b[0m\u001b[0;34m)\u001b[0m\u001b[0;34m:\u001b[0m\u001b[0;34m\u001b[0m\u001b[0;34m\u001b[0m\u001b[0m\n",
      "\u001b[0;31mNoDocumentEntryException\u001b[0m: No Item #100"
     ]
    }
   ],
   "source": [
    "add_document_entry(1, 3, 3, 100)"
   ]
  },
  {
   "cell_type": "code",
   "execution_count": 81,
   "metadata": {},
   "outputs": [
    {
     "data": {
      "text/plain": [
       "[{'id': 1,\n",
       "  'document_id': 1,\n",
       "  'entry_id': 1,\n",
       "  'parent_id': None,\n",
       "  'prev_id': None,\n",
       "  'content': '김문근'},\n",
       " {'id': 2,\n",
       "  'document_id': 1,\n",
       "  'entry_id': 2,\n",
       "  'parent_id': None,\n",
       "  'prev_id': 4,\n",
       "  'content': '김문근 천재'},\n",
       " {'id': 4,\n",
       "  'document_id': 1,\n",
       "  'entry_id': 3,\n",
       "  'parent_id': None,\n",
       "  'prev_id': 1,\n",
       "  'content': '김문근 천재 인가요?'},\n",
       " {'id': 5,\n",
       "  'document_id': 1,\n",
       "  'entry_id': 4,\n",
       "  'parent_id': 1,\n",
       "  'prev_id': None,\n",
       "  'content': '학교 가자'}]"
      ]
     },
     "execution_count": 81,
     "metadata": {},
     "output_type": "execute_result"
    }
   ],
   "source": [
    "get_document_entries(1)"
   ]
  },
  {
   "cell_type": "code",
   "execution_count": 70,
   "metadata": {},
   "outputs": [
    {
     "data": {
      "text/plain": [
       "<DocumentEntry: 5>"
      ]
     },
     "execution_count": 70,
     "metadata": {},
     "output_type": "execute_result"
    }
   ],
   "source": [
    "add_document_entry(1, 4, 1, None)"
   ]
  },
  {
   "cell_type": "code",
   "execution_count": 26,
   "metadata": {},
   "outputs": [],
   "source": [
    "get_native_document_entry(1, None, 3)"
   ]
  },
  {
   "cell_type": "code",
   "execution_count": 57,
   "metadata": {},
   "outputs": [
    {
     "data": {
      "text/plain": [
       "[{'id': 1,\n",
       "  'title': '연습',\n",
       "  'create_at': datetime.datetime(2020, 12, 12, 20, 6, 33, 381421),\n",
       "  'modify_at': datetime.datetime(2020, 12, 12, 20, 6, 33, 381426)},\n",
       " {'id': 2,\n",
       "  'title': '연습2',\n",
       "  'create_at': datetime.datetime(2020, 12, 12, 20, 10, 41, 509277),\n",
       "  'modify_at': datetime.datetime(2020, 12, 12, 20, 10, 41, 509280)}]"
      ]
     },
     "execution_count": 57,
     "metadata": {},
     "output_type": "execute_result"
    }
   ],
   "source": [
    "find_document()"
   ]
  },
  {
   "cell_type": "code",
   "execution_count": 58,
   "metadata": {},
   "outputs": [
    {
     "data": {
      "text/plain": [
       "[{'id': 1,\n",
       "  'title': '연습',\n",
       "  'create_at': datetime.datetime(2020, 12, 12, 20, 6, 33, 381421),\n",
       "  'modify_at': datetime.datetime(2020, 12, 12, 20, 6, 33, 381426)},\n",
       " {'id': 2,\n",
       "  'title': '연습2',\n",
       "  'create_at': datetime.datetime(2020, 12, 12, 20, 10, 41, 509277),\n",
       "  'modify_at': datetime.datetime(2020, 12, 12, 20, 10, 41, 509280)}]"
      ]
     },
     "execution_count": 58,
     "metadata": {},
     "output_type": "execute_result"
    }
   ],
   "source": [
    "find_document('연')"
   ]
  },
  {
   "cell_type": "code",
   "execution_count": 80,
   "metadata": {},
   "outputs": [
    {
     "data": {
      "text/plain": [
       "{None: [4, 2, 1, 4], 1: [5]}"
      ]
     },
     "execution_count": 80,
     "metadata": {},
     "output_type": "execute_result"
    }
   ],
   "source": [
    "get_document_tree(1)"
   ]
  },
  {
   "cell_type": "code",
   "execution_count": 74,
   "metadata": {},
   "outputs": [
    {
     "ename": "ValueError",
     "evalue": "None is not in list",
     "output_type": "error",
     "traceback": [
      "\u001b[0;31m---------------------------------------------------------------------------\u001b[0m",
      "\u001b[0;31mValueError\u001b[0m                                Traceback (most recent call last)",
      "\u001b[0;32m<ipython-input-74-49cd5e947eb7>\u001b[0m in \u001b[0;36m<module>\u001b[0;34m\u001b[0m\n\u001b[0;32m----> 1\u001b[0;31m \u001b[0;34m[\u001b[0m\u001b[0;36m1\u001b[0m\u001b[0;34m,\u001b[0m \u001b[0;36m2\u001b[0m\u001b[0;34m,\u001b[0m \u001b[0;36m3\u001b[0m\u001b[0;34m]\u001b[0m\u001b[0;34m.\u001b[0m\u001b[0mindex\u001b[0m\u001b[0;34m(\u001b[0m\u001b[0;32mNone\u001b[0m\u001b[0;34m)\u001b[0m\u001b[0;34m\u001b[0m\u001b[0;34m\u001b[0m\u001b[0m\n\u001b[0m",
      "\u001b[0;31mValueError\u001b[0m: None is not in list"
     ]
    }
   ],
   "source": [
    "[1, 2, 3].index(None)"
   ]
  },
  {
   "cell_type": "code",
   "execution_count": null,
   "metadata": {},
   "outputs": [],
   "source": []
  }
 ],
 "metadata": {
  "kernelspec": {
   "display_name": "Python 3",
   "language": "python",
   "name": "python3"
  },
  "language_info": {
   "codemirror_mode": {
    "name": "ipython",
    "version": 3
   },
   "file_extension": ".py",
   "mimetype": "text/x-python",
   "name": "python",
   "nbconvert_exporter": "python",
   "pygments_lexer": "ipython3",
   "version": "3.7.3"
  }
 },
 "nbformat": 4,
 "nbformat_minor": 2
}
