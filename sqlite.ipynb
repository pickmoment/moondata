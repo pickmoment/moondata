{
 "cells": [
  {
   "cell_type": "code",
   "execution_count": 119,
   "metadata": {},
   "outputs": [],
   "source": [
    "from peewee import *\n",
    "from playhouse.sqlite_ext import *\n",
    "\n",
    "# pragmas = [\n",
    "#     ('journal_mode', 'wal'),\n",
    "#     ('cache_size', -1024 * 32)]\n",
    "# db = SqliteExtDatabase('blog.db', pragmas=pragmas)\n",
    "db = SqliteExtDatabase('blog.db')\n",
    "\n",
    "\n",
    "class Entry(FTSModel):\n",
    "    content = TextField()\n",
    "    # You may have any number of other fields, such as status,\n",
    "    # timestamp, etc.\n",
    "\n",
    "    class Meta:\n",
    "        database = db\n",
    "        \n",
    "class Tag(Model):\n",
    "    title = TextField()\n",
    "\n",
    "    class Meta:\n",
    "        database = db\n",
    "        \n",
    "class TagMap(Model):\n",
    "    tag_id = ForeignKeyField(Tag, backref='map_tag')\n",
    "    entry_id = ForeignKeyField(Entry, backref='map_entry')\n",
    "\n",
    "    class Meta:\n",
    "        database = db\n",
    "    \n",
    "def add_content(content):\n",
    "    return Entry.create(content=content)\n",
    "    \n",
    "\n",
    "def get_tag(title):\n",
    "    try:\n",
    "        tag = Tag.get(Tag.title == title)\n",
    "        print('exist - ', title, tag.title, tag.id)\n",
    "    except:    \n",
    "        tag = Tag.create(title=title)\n",
    "        print('new - ', title, tag.title, tag.id)\n",
    "    return tag\n",
    "    \n",
    "def add_tag(docid, title):\n",
    "    tag = get_tag(title)\n",
    "    print(tag)\n",
    "    TagMap.create(tag_id=tag.id, entry_id=docid)\n",
    "    \n",
    "    \n",
    "def find_entry(content):\n",
    "    return [entry for entry in Entry.select().where(Entry.match(content)).order_by(Entry.rank()).dicts()]\n",
    "\n",
    "def find_tag(title):\n",
    "    return [tag for tag in Tag.select().where(Tag.title.startswith(title)).dicts()]\n",
    "\n",
    "def find_tag_entry(tag_id):\n",
    "    return [entry for entry in Entry.select().join(TagMap, on=TagMap.entry_id).where(TagMap.tag_id == tag_id).dicts()]\n",
    "    \n",
    "    \n",
    "db.create_tables([Entry, Tag, TagMap])    "
   ]
  },
  {
   "cell_type": "code",
   "execution_count": 86,
   "metadata": {},
   "outputs": [],
   "source": [
    "doc = add_content('김문근')\n",
    "doc = add_content('김문근 천재')\n",
    "doc = add_content('김문근 천재 인가요?')"
   ]
  },
  {
   "cell_type": "code",
   "execution_count": 87,
   "metadata": {},
   "outputs": [
    {
     "data": {
      "text/plain": [
       "[{'docid': 1, 'content': '김문근'},\n",
       " {'docid': 2, 'content': '김문근 천재'},\n",
       " {'docid': 3, 'content': '김문근 천재 인가요?'}]"
      ]
     },
     "execution_count": 87,
     "metadata": {},
     "output_type": "execute_result"
    }
   ],
   "source": [
    "find_entry('김문근')"
   ]
  },
  {
   "cell_type": "code",
   "execution_count": 124,
   "metadata": {},
   "outputs": [
    {
     "data": {
      "text/plain": [
       "[{'id': 1, 'title': '인물'}, {'id': 2, 'title': '인사'}]"
      ]
     },
     "execution_count": 124,
     "metadata": {},
     "output_type": "execute_result"
    }
   ],
   "source": [
    "find_tag('인')"
   ]
  },
  {
   "cell_type": "code",
   "execution_count": 122,
   "metadata": {},
   "outputs": [
    {
     "name": "stdout",
     "output_type": "stream",
     "text": [
      "new -  인물 인물 1\n",
      "1\n"
     ]
    }
   ],
   "source": [
    "add_tag(1, '인물')"
   ]
  },
  {
   "cell_type": "code",
   "execution_count": 123,
   "metadata": {},
   "outputs": [
    {
     "name": "stdout",
     "output_type": "stream",
     "text": [
      "new -  인사 인사 2\n",
      "2\n",
      "exist -  인사 인사 2\n",
      "2\n"
     ]
    }
   ],
   "source": [
    "add_tag(1, '인사')\n",
    "add_tag(2, '인사')"
   ]
  },
  {
   "cell_type": "code",
   "execution_count": 126,
   "metadata": {},
   "outputs": [
    {
     "data": {
      "text/plain": [
       "[{'docid': 1, 'content': '김문근'}]"
      ]
     },
     "execution_count": 126,
     "metadata": {},
     "output_type": "execute_result"
    }
   ],
   "source": [
    "find_tag_entry(1)"
   ]
  },
  {
   "cell_type": "code",
   "execution_count": null,
   "metadata": {},
   "outputs": [],
   "source": []
  }
 ],
 "metadata": {
  "kernelspec": {
   "display_name": "Python 3",
   "language": "python",
   "name": "python3"
  },
  "language_info": {
   "codemirror_mode": {
    "name": "ipython",
    "version": 3
   },
   "file_extension": ".py",
   "mimetype": "text/x-python",
   "name": "python",
   "nbconvert_exporter": "python",
   "pygments_lexer": "ipython3",
   "version": "3.7.3"
  }
 },
 "nbformat": 4,
 "nbformat_minor": 2
}
